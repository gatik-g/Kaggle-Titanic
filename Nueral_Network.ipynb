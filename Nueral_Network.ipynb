{
 "cells": [
  {
   "cell_type": "code",
   "execution_count": 2,
   "id": "4f607238-4561-44e6-bafb-1fce08b7ffb1",
   "metadata": {},
   "outputs": [
    {
     "name": "stderr",
     "output_type": "stream",
     "text": [
      "2023-07-29 12:53:27.125893: I tensorflow/core/util/port.cc:110] oneDNN custom operations are on. You may see slightly different numerical results due to floating-point round-off errors from different computation orders. To turn them off, set the environment variable `TF_ENABLE_ONEDNN_OPTS=0`.\n",
      "2023-07-29 12:53:27.149787: I tensorflow/core/platform/cpu_feature_guard.cc:182] This TensorFlow binary is optimized to use available CPU instructions in performance-critical operations.\n",
      "To enable the following instructions: AVX2 AVX_VNNI FMA, in other operations, rebuild TensorFlow with the appropriate compiler flags.\n",
      "2023-07-29 12:53:27.500099: W tensorflow/compiler/tf2tensorrt/utils/py_utils.cc:38] TF-TRT Warning: Could not find TensorRT\n"
     ]
    }
   ],
   "source": [
    "import pandas as pd\n",
    "import tensorflow as tf\n",
    "import numpy as np\n",
    "import matplotlib.pyplot as plt\n",
    "from sklearn.model_selection import train_test_split\n",
    "from tensorflow import keras\n",
    "from sklearn.preprocessing import StandardScaler"
   ]
  },
  {
   "cell_type": "code",
   "execution_count": 3,
   "id": "10f2ee35-a0ce-4b96-8e80-5ff6e359102a",
   "metadata": {},
   "outputs": [],
   "source": [
    "df = pd.read_csv('train.csv')\n",
    "df.drop(columns = [\"Cabin\", \"Name\",\"Ticket\",\"PassengerId\"], inplace = True)\n",
    "mean_age = df[\"Age\"].mean()\n",
    "df[\"Age\"].fillna(mean_age,inplace=True)\n",
    "df.dropna(inplace=True)\n",
    "df\n",
    "df_onehot = pd.get_dummies(df[['Sex', 'Embarked']])\n",
    "df.drop(columns = [\"Sex\", \"Embarked\"], inplace = True)\n",
    "df = pd.concat([df, df_onehot], axis=1)\n",
    "X = df.drop(columns = [\"Survived\"])\n",
    "y = df[\"Survived\"]\n",
    "X_train, X_test, y_train, y_test = train_test_split(X, y, test_size=0.05, random_state=42)\n",
    "# y_train = np.array(y_train)\n",
    "# X_train = np.array(X_train)\n",
    "\n",
    "scaler = StandardScaler()\n",
    "X_train = scaler.fit_transform(X_train)\n",
    "X_test = scaler.transform(X_test)"
   ]
  },
  {
   "cell_type": "code",
   "execution_count": null,
   "id": "c94dff99-99df-4718-8e31-b28bd486595e",
   "metadata": {},
   "outputs": [
    {
     "name": "stdout",
     "output_type": "stream",
     "text": [
      "Epoch 1/100\n"
     ]
    },
    {
     "name": "stderr",
     "output_type": "stream",
     "text": [
      "2023-07-29 12:54:11.798422: I tensorflow/compiler/xla/stream_executor/cuda/cuda_gpu_executor.cc:982] could not open file to read NUMA node: /sys/bus/pci/devices/0000:01:00.0/numa_node\n",
      "Your kernel may have been built without NUMA support.\n",
      "2023-07-29 12:54:11.811350: I tensorflow/compiler/xla/stream_executor/cuda/cuda_gpu_executor.cc:982] could not open file to read NUMA node: /sys/bus/pci/devices/0000:01:00.0/numa_node\n",
      "Your kernel may have been built without NUMA support.\n",
      "2023-07-29 12:54:11.811389: I tensorflow/compiler/xla/stream_executor/cuda/cuda_gpu_executor.cc:982] could not open file to read NUMA node: /sys/bus/pci/devices/0000:01:00.0/numa_node\n",
      "Your kernel may have been built without NUMA support.\n",
      "2023-07-29 12:54:11.813583: I tensorflow/compiler/xla/stream_executor/cuda/cuda_gpu_executor.cc:982] could not open file to read NUMA node: /sys/bus/pci/devices/0000:01:00.0/numa_node\n",
      "Your kernel may have been built without NUMA support.\n",
      "2023-07-29 12:54:11.813619: I tensorflow/compiler/xla/stream_executor/cuda/cuda_gpu_executor.cc:982] could not open file to read NUMA node: /sys/bus/pci/devices/0000:01:00.0/numa_node\n",
      "Your kernel may have been built without NUMA support.\n",
      "2023-07-29 12:54:11.813632: I tensorflow/compiler/xla/stream_executor/cuda/cuda_gpu_executor.cc:982] could not open file to read NUMA node: /sys/bus/pci/devices/0000:01:00.0/numa_node\n",
      "Your kernel may have been built without NUMA support.\n",
      "2023-07-29 12:54:12.276233: I tensorflow/compiler/xla/stream_executor/cuda/cuda_gpu_executor.cc:982] could not open file to read NUMA node: /sys/bus/pci/devices/0000:01:00.0/numa_node\n",
      "Your kernel may have been built without NUMA support.\n",
      "2023-07-29 12:54:12.276439: I tensorflow/compiler/xla/stream_executor/cuda/cuda_gpu_executor.cc:982] could not open file to read NUMA node: /sys/bus/pci/devices/0000:01:00.0/numa_node\n",
      "Your kernel may have been built without NUMA support.\n",
      "2023-07-29 12:54:12.276453: I tensorflow/core/common_runtime/gpu/gpu_device.cc:1722] Could not identify NUMA node of platform GPU id 0, defaulting to 0.  Your kernel may not have been built with NUMA support.\n",
      "2023-07-29 12:54:12.276499: I tensorflow/compiler/xla/stream_executor/cuda/cuda_gpu_executor.cc:982] could not open file to read NUMA node: /sys/bus/pci/devices/0000:01:00.0/numa_node\n",
      "Your kernel may have been built without NUMA support.\n",
      "2023-07-29 12:54:12.276555: I tensorflow/core/common_runtime/gpu/gpu_device.cc:1635] Created device /job:localhost/replica:0/task:0/device:GPU:0 with 5075 MB memory:  -> device: 0, name: NVIDIA GeForce RTX 3060 Ti, pci bus id: 0000:01:00.0, compute capability: 8.6\n",
      "2023-07-29 12:54:13.968206: I tensorflow/compiler/xla/stream_executor/cuda/cuda_blas.cc:637] TensorFloat-32 will be used for the matrix multiplication. This will only be logged once.\n",
      "2023-07-29 12:54:13.975778: I tensorflow/compiler/xla/service/service.cc:169] XLA service 0x7fa38402ec70 initialized for platform CUDA (this does not guarantee that XLA will be used). Devices:\n",
      "2023-07-29 12:54:13.975807: I tensorflow/compiler/xla/service/service.cc:177]   StreamExecutor device (0): NVIDIA GeForce RTX 3060 Ti, Compute Capability 8.6\n",
      "2023-07-29 12:54:13.978745: I tensorflow/compiler/mlir/tensorflow/utils/dump_mlir_util.cc:269] disabling MLIR crash reproducer, set env var `MLIR_CRASH_REPRODUCER_DIRECTORY` to enable.\n",
      "2023-07-29 12:54:14.078262: I tensorflow/compiler/xla/stream_executor/cuda/cuda_dnn.cc:424] Loaded cuDNN version 8600\n",
      "2023-07-29 12:54:14.148220: I ./tensorflow/compiler/jit/device_compiler.h:180] Compiled cluster using XLA!  This line is logged at most once for the lifetime of the process.\n"
     ]
    },
    {
     "name": "stdout",
     "output_type": "stream",
     "text": [
      "27/27 [==============================] - 2s 5ms/step - loss: 0.9109\n",
      "Epoch 2/100\n",
      "27/27 [==============================] - 0s 4ms/step - loss: 0.5927\n",
      "Epoch 3/100\n",
      "27/27 [==============================] - 0s 3ms/step - loss: 0.5492\n",
      "Epoch 4/100\n",
      "27/27 [==============================] - 0s 3ms/step - loss: 0.5453\n",
      "Epoch 5/100\n",
      "27/27 [==============================] - 0s 3ms/step - loss: 0.5396\n",
      "Epoch 6/100\n",
      "27/27 [==============================] - 0s 3ms/step - loss: 0.5383\n",
      "Epoch 7/100\n",
      "27/27 [==============================] - 0s 3ms/step - loss: 0.5281\n",
      "Epoch 8/100\n",
      "27/27 [==============================] - 0s 3ms/step - loss: 0.5248\n",
      "Epoch 9/100\n",
      "27/27 [==============================] - 0s 3ms/step - loss: 0.5146\n",
      "Epoch 10/100\n",
      "27/27 [==============================] - 0s 3ms/step - loss: 0.5333\n",
      "Epoch 11/100\n",
      "27/27 [==============================] - 0s 3ms/step - loss: 0.5354\n",
      "Epoch 12/100\n",
      "27/27 [==============================] - 0s 4ms/step - loss: 0.5186\n",
      "Epoch 13/100\n",
      "27/27 [==============================] - 0s 3ms/step - loss: 0.5271\n",
      "Epoch 14/100\n",
      "27/27 [==============================] - 0s 3ms/step - loss: 0.5259\n",
      "Epoch 15/100\n",
      "27/27 [==============================] - 0s 4ms/step - loss: 0.5165\n",
      "Epoch 16/100\n",
      "27/27 [==============================] - 0s 3ms/step - loss: 0.5183\n",
      "Epoch 17/100\n",
      "27/27 [==============================] - 0s 3ms/step - loss: 0.5190\n",
      "Epoch 18/100\n",
      "27/27 [==============================] - 0s 3ms/step - loss: 0.5236\n",
      "Epoch 19/100\n",
      "27/27 [==============================] - 0s 3ms/step - loss: 0.5146\n",
      "Epoch 20/100\n",
      "27/27 [==============================] - 0s 4ms/step - loss: 0.5082\n",
      "Epoch 21/100\n",
      "27/27 [==============================] - 0s 3ms/step - loss: 0.5083\n",
      "Epoch 22/100\n",
      "27/27 [==============================] - 0s 3ms/step - loss: 0.5082\n",
      "Epoch 23/100\n",
      "27/27 [==============================] - 0s 3ms/step - loss: 0.5260\n",
      "Epoch 24/100\n",
      "27/27 [==============================] - 0s 3ms/step - loss: 0.5109\n",
      "Epoch 25/100\n",
      "27/27 [==============================] - 0s 3ms/step - loss: 0.5175\n",
      "Epoch 26/100\n",
      "27/27 [==============================] - 0s 3ms/step - loss: 0.5261\n",
      "Epoch 27/100\n",
      "27/27 [==============================] - 0s 3ms/step - loss: 0.5172\n",
      "Epoch 28/100\n",
      "27/27 [==============================] - 0s 3ms/step - loss: 0.5090\n",
      "Epoch 29/100\n",
      "27/27 [==============================] - 0s 3ms/step - loss: 0.5074\n",
      "Epoch 30/100\n",
      "27/27 [==============================] - 0s 3ms/step - loss: 0.5154\n",
      "Epoch 31/100\n",
      "27/27 [==============================] - 0s 3ms/step - loss: 0.5076\n",
      "Epoch 32/100\n",
      "27/27 [==============================] - 0s 3ms/step - loss: 0.5064\n",
      "Epoch 33/100\n",
      "27/27 [==============================] - 0s 3ms/step - loss: 0.5044\n",
      "Epoch 34/100\n",
      "27/27 [==============================] - 0s 3ms/step - loss: 0.5134\n",
      "Epoch 35/100\n",
      "27/27 [==============================] - 0s 3ms/step - loss: 0.5033\n",
      "Epoch 36/100\n",
      "27/27 [==============================] - 0s 3ms/step - loss: 0.5034\n",
      "Epoch 37/100\n",
      "27/27 [==============================] - 0s 3ms/step - loss: 0.5081\n",
      "Epoch 38/100\n",
      "27/27 [==============================] - 0s 3ms/step - loss: 0.5089\n",
      "Epoch 39/100\n",
      "27/27 [==============================] - 0s 3ms/step - loss: 0.5040\n",
      "Epoch 40/100\n",
      "27/27 [==============================] - 0s 3ms/step - loss: 0.5153\n",
      "Epoch 41/100\n",
      "27/27 [==============================] - 0s 3ms/step - loss: 0.5028\n",
      "Epoch 42/100\n",
      "27/27 [==============================] - 0s 3ms/step - loss: 0.5156\n",
      "Epoch 43/100\n",
      "27/27 [==============================] - 0s 3ms/step - loss: 0.5068\n",
      "Epoch 44/100\n",
      "27/27 [==============================] - 0s 3ms/step - loss: 0.5077\n",
      "Epoch 45/100\n",
      "27/27 [==============================] - 0s 3ms/step - loss: 0.5059\n",
      "Epoch 46/100\n",
      "27/27 [==============================] - 0s 3ms/step - loss: 0.5013\n",
      "Epoch 47/100\n",
      "27/27 [==============================] - 0s 4ms/step - loss: 0.5054\n",
      "Epoch 48/100\n",
      "27/27 [==============================] - 0s 3ms/step - loss: 0.5089\n",
      "Epoch 49/100\n",
      "27/27 [==============================] - 0s 3ms/step - loss: 0.5046\n",
      "Epoch 50/100\n",
      "27/27 [==============================] - 0s 3ms/step - loss: 0.5025\n",
      "Epoch 51/100\n",
      "27/27 [==============================] - 0s 3ms/step - loss: 0.5048\n",
      "Epoch 52/100\n",
      "27/27 [==============================] - 0s 3ms/step - loss: 0.5033\n",
      "Epoch 53/100\n",
      "27/27 [==============================] - 0s 3ms/step - loss: 0.5019\n",
      "Epoch 54/100\n",
      "27/27 [==============================] - 0s 3ms/step - loss: 0.5070\n",
      "Epoch 55/100\n",
      "27/27 [==============================] - 0s 4ms/step - loss: 0.4990\n",
      "Epoch 56/100\n",
      "27/27 [==============================] - 0s 3ms/step - loss: 0.5022\n",
      "Epoch 57/100\n",
      "27/27 [==============================] - 0s 3ms/step - loss: 0.5106\n",
      "Epoch 58/100\n",
      "27/27 [==============================] - 0s 3ms/step - loss: 0.5049\n",
      "Epoch 59/100\n",
      "27/27 [==============================] - 0s 3ms/step - loss: 0.5007\n",
      "Epoch 60/100\n",
      "27/27 [==============================] - 0s 3ms/step - loss: 0.5068\n",
      "Epoch 61/100\n",
      "27/27 [==============================] - 0s 3ms/step - loss: 0.5084\n",
      "Epoch 62/100\n",
      "27/27 [==============================] - 0s 3ms/step - loss: 0.4998\n",
      "Epoch 63/100\n",
      "27/27 [==============================] - 0s 3ms/step - loss: 0.5204\n",
      "Epoch 64/100\n",
      "27/27 [==============================] - 0s 4ms/step - loss: 0.5136\n",
      "Epoch 65/100\n",
      "27/27 [==============================] - 0s 4ms/step - loss: 0.5016\n",
      "Epoch 66/100\n",
      "27/27 [==============================] - 0s 4ms/step - loss: 0.5001\n",
      "Epoch 67/100\n",
      "27/27 [==============================] - 0s 4ms/step - loss: 0.5006\n",
      "Epoch 68/100\n",
      "27/27 [==============================] - 0s 4ms/step - loss: 0.4998\n",
      "Epoch 69/100\n",
      "27/27 [==============================] - 0s 3ms/step - loss: 0.5009\n",
      "Epoch 70/100\n",
      " 1/27 [>.............................] - ETA: 0s - loss: 0.6264"
     ]
    }
   ],
   "source": [
    "model = keras.Sequential([\n",
    "    keras.layers.Input(shape = (10)),\n",
    "    keras.layers.Dense(32, activation = \"relu\", kernel_regularizer = keras.regularizers.l2(0.01)),\n",
    "    keras.layers.Dense(16, activation = \"relu\", kernel_regularizer = keras.regularizers.l2(0.01)),\n",
    "    keras.layers.Dense(8, activation = \"relu\", kernel_regularizer = keras.regularizers.l2(0.01)),\n",
    "    keras.layers.Dense(4, activation = \"relu\", kernel_regularizer = keras.regularizers.l2(0.01)),\n",
    "    keras.layers.Dense(1, activation = \"sigmoid\", kernel_regularizer = keras.regularizers.l1(0.01))\n",
    "])\n",
    "\n",
    "model.compile(loss = 'binary_crossentropy', optimizer = keras.optimizers.Adam(learning_rate=0.01))\n",
    "model.fit(X_train, y_train, epochs =100)"
   ]
  },
  {
   "cell_type": "code",
   "execution_count": 126,
   "id": "4301b069-3c8f-42b7-9305-720055a218c2",
   "metadata": {},
   "outputs": [
    {
     "name": "stdout",
     "output_type": "stream",
     "text": [
      "2/2 [==============================] - 0s 2ms/step\n",
      "22/22 [==============================] - 0s 1ms/step\n"
     ]
    },
    {
     "data": {
      "text/plain": [
       "676"
      ]
     },
     "execution_count": 126,
     "metadata": {},
     "output_type": "execute_result"
    }
   ],
   "source": [
    "y_pred = model.predict(X_test)\n",
    "y_pred = model.predict(X_train)\n",
    "len(y_pred)"
   ]
  },
  {
   "cell_type": "code",
   "execution_count": 127,
   "id": "2c5d8754-b43b-467f-8e00-6b297a71346f",
   "metadata": {},
   "outputs": [
    {
     "name": "stdout",
     "output_type": "stream",
     "text": [
      "2/2 [==============================] - 0s 2ms/step\n",
      "Test accuracy: 0.9166666666666666\n",
      "22/22 [==============================] - 0s 1ms/step\n",
      "Train accuracy: 0.8210059171597633\n"
     ]
    }
   ],
   "source": [
    "count = 0\n",
    "y_pred = model.predict(X_test)\n",
    "for i in range(len(y_pred)):\n",
    "    if y_pred[i] >0.5:\n",
    "        if y_test.iloc[i] ==1:\n",
    "            count+=1\n",
    "    else:\n",
    "        if y_test.iloc[i] ==0:\n",
    "            count+=1\n",
    "print(\"Test accuracy: \" + str(count/len(y_pred)))\n",
    "\n",
    "\n",
    "count = 0\n",
    "y_pred = model.predict(X_train)\n",
    "for i in range(len(y_pred)):\n",
    "    if y_pred[i] >0.5:\n",
    "        if y_train.iloc[i] ==1:\n",
    "            count+=1\n",
    "    else:\n",
    "        if y_train.iloc[i] ==0:\n",
    "            count+=1\n",
    "print(\"Train accuracy: \" + str(count/len(y_pred)))\n"
   ]
  },
  {
   "cell_type": "code",
   "execution_count": 186,
   "id": "e4ea71e1-d725-41c6-be69-f0bac082edb7",
   "metadata": {},
   "outputs": [
    {
     "name": "stdout",
     "output_type": "stream",
     "text": [
      "14/14 [==============================] - 0s 1ms/step\n"
     ]
    }
   ],
   "source": [
    "X_sub = pd.read_csv('test.csv')\n",
    "X_sub.drop(columns = [\"Cabin\", \"Name\",\"Ticket\",\"PassengerId\"], inplace = True)\n",
    "mean_age = X_sub[\"Age\"].mean()\n",
    "X_sub[\"Age\"].fillna(mean_age,inplace=True)\n",
    "mean_fare = X_sub[\"Fare\"].mean()\n",
    "X_sub[\"Fare\"].fillna(mean_fare,inplace=True)\n",
    "X_sub_onehot = pd.get_dummies(X_sub[['Sex', 'Embarked']])\n",
    "X_sub.drop(columns = [\"Sex\", \"Embarked\"], inplace = True)\n",
    "X_sub = pd.concat([X_sub, X_sub_onehot], axis=1)\n",
    "X_sub\n",
    "X_sub = scaler.transform(X_sub)\n",
    "y_sub = model.predict(X_sub)"
   ]
  },
  {
   "cell_type": "code",
   "execution_count": 196,
   "id": "221339b0-df13-4915-8e10-2354906ee493",
   "metadata": {},
   "outputs": [
    {
     "name": "stdout",
     "output_type": "stream",
     "text": [
      "[0, 0, 0, 0, 1, 0, 1, 0, 1, 0, 0, 0, 1, 0, 1, 1, 0, 0, 0, 0, 0, 0, 1, 1, 1, 0, 1, 0, 0, 0, 0, 0, 0, 0, 0, 0, 1, 1, 0, 0, 0, 0, 0, 1, 1, 0, 0, 0, 1, 0, 1, 0, 1, 1, 0, 0, 0, 0, 0, 1, 0, 0, 0, 1, 1, 1, 1, 0, 0, 1, 1, 0, 1, 1, 1, 0, 0, 1, 0, 1, 0, 0, 0, 0, 0, 0, 1, 1, 1, 1, 1, 0, 1, 0, 1, 0, 1, 0, 1, 0, 1, 0, 0, 0, 1, 0, 0, 0, 0, 0, 0, 1, 1, 1, 1, 0, 0, 1, 0, 1, 1, 0, 1, 0, 0, 1, 0, 0, 0, 0, 0, 0, 0, 0, 0, 0, 0, 0, 1, 0, 0, 1, 0, 0, 0, 0, 0, 0, 0, 0, 1, 0, 0, 0, 0, 0, 1, 1, 0, 1, 1, 0, 1, 0, 0, 0, 0, 0, 1, 1, 0, 0, 0, 0, 0, 1, 1, 0, 1, 1, 0, 0, 1, 0, 1, 0, 1, 0, 0, 0, 0, 0, 0, 0, 1, 0, 1, 1, 0, 1, 1, 1, 0, 1, 0, 0, 0, 0, 1, 0, 0, 0, 0, 1, 0, 0, 1, 0, 1, 0, 1, 0, 1, 0, 1, 1, 0, 1, 0, 0, 0, 1, 0, 0, 0, 0, 0, 0, 1, 1, 1, 1, 0, 0, 0, 0, 1, 0, 1, 1, 1, 0, 0, 0, 0, 0, 0, 0, 1, 0, 0, 0, 1, 1, 0, 0, 0, 0, 1, 0, 0, 0, 1, 0, 0, 1, 0, 0, 0, 0, 1, 0, 1, 1, 1, 0, 0, 1, 0, 0, 0, 1, 0, 0, 0, 0, 1, 0, 0, 0, 0, 0, 0, 0, 1, 1, 0, 0, 0, 0, 0, 0, 0, 0, 1, 1, 0, 0, 0, 0, 0, 0, 0, 0, 1, 0, 1, 0, 0, 0, 1, 0, 0, 1, 0, 0, 0, 0, 0, 0, 0, 0, 0, 1, 0, 1, 0, 0, 0, 1, 1, 0, 0, 0, 1, 0, 1, 0, 0, 0, 0, 1, 1, 0, 1, 1, 0, 1, 1, 0, 0, 1, 0, 0, 1, 1, 0, 0, 0, 0, 0, 0, 1, 1, 0, 1, 0, 0, 0, 0, 1, 1, 0, 0, 0, 1, 0, 1, 0, 0, 1, 0, 1, 1, 0, 0, 0, 0, 1, 1, 1, 1, 1, 0, 1, 0, 0, 0]\n"
     ]
    }
   ],
   "source": [
    "predictions = []\n",
    "for i in range(418):\n",
    "    if y_sub[i] >0.5:\n",
    "        predictions.append(1)\n",
    "    else:\n",
    "        predictions.append(0)\n",
    "# print(len([i for i in range(892,1310)]))\n",
    "# print(len(predictions))\n",
    "print(predictions)\n",
    "outputData = {\n",
    "    \"PassengerId\":[i for i in range(892,1310)],\n",
    "    \"Survived\":predictions\n",
    "}\n",
    "output = pd.DataFrame(outputData)\n",
    "output.to_csv('submission.csv', index=False)"
   ]
  },
  {
   "cell_type": "code",
   "execution_count": null,
   "id": "8ae6ae7f-ff0f-427b-ae42-9873044f4626",
   "metadata": {},
   "outputs": [],
   "source": []
  },
  {
   "cell_type": "code",
   "execution_count": null,
   "id": "ed1984b9-4ba9-4614-871f-bd199ef046e1",
   "metadata": {},
   "outputs": [],
   "source": []
  }
 ],
 "metadata": {
  "kernelspec": {
   "display_name": "Python 3 (ipykernel)",
   "language": "python",
   "name": "python3"
  },
  "language_info": {
   "codemirror_mode": {
    "name": "ipython",
    "version": 3
   },
   "file_extension": ".py",
   "mimetype": "text/x-python",
   "name": "python",
   "nbconvert_exporter": "python",
   "pygments_lexer": "ipython3",
   "version": "3.10.6"
  }
 },
 "nbformat": 4,
 "nbformat_minor": 5
}
